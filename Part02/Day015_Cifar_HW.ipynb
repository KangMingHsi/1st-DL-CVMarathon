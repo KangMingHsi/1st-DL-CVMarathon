{
 "cells": [
  {
   "cell_type": "markdown",
   "metadata": {},
   "source": [
    "## 『本次練習內容』\n",
    "#### 運用這幾天所學觀念搭建一個CNN分類器"
   ]
  },
  {
   "cell_type": "markdown",
   "metadata": {},
   "source": [
    "## 『本次練習目的』\n",
    "  #### 熟悉CNN分類器搭建步驟與原理\n",
    "  #### 學員們可以嘗試不同搭法，如使用不同的Maxpooling層，用GlobalAveragePooling取代Flatten等等"
   ]
  },
  {
   "cell_type": "code",
   "execution_count": 1,
   "metadata": {},
   "outputs": [
    {
     "name": "stderr",
     "output_type": "stream",
     "text": [
      "Using TensorFlow backend.\n"
     ]
    }
   ],
   "source": [
    "from keras.models import Sequential\n",
    "from keras.layers import Convolution2D\n",
    "from keras.layers import MaxPooling2D\n",
    "from keras.layers import Flatten\n",
    "from keras.layers import Dense\n",
    "from keras.layers import Dropout\n",
    "from keras.layers import BatchNormalization\n",
    "from keras.datasets import cifar10\n",
    "import numpy as np\n",
    "import tensorflow as tf\n",
    "from sklearn.preprocessing import OneHotEncoder\n"
   ]
  },
  {
   "cell_type": "code",
   "execution_count": 2,
   "metadata": {},
   "outputs": [
    {
     "name": "stdout",
     "output_type": "stream",
     "text": [
      "(50000, 32, 32, 3)\n"
     ]
    }
   ],
   "source": [
    "(x_train, y_train), (x_test, y_test) = cifar10.load_data()\n",
    "\n",
    "print(x_train.shape) #(50000, 32, 32, 3)\n",
    "\n",
    "## Normalize Data\n",
    "def normalize(X_train,X_test):\n",
    "        mean = np.mean(X_train,axis=(0,1,2,3))\n",
    "        std = np.std(X_train, axis=(0, 1, 2, 3))\n",
    "        X_train = (X_train-mean)/(std+1e-7)\n",
    "        X_test = (X_test-mean)/(std+1e-7) \n",
    "        return X_train, X_test,mean,std\n",
    "    \n",
    "    \n",
    "## Normalize Training and Testset    \n",
    "x_train, x_test,mean_train,std_train = normalize(x_train, x_test) "
   ]
  },
  {
   "cell_type": "code",
   "execution_count": 3,
   "metadata": {},
   "outputs": [
    {
     "name": "stderr",
     "output_type": "stream",
     "text": [
      "C:\\Users\\SeanKang\\Anaconda3\\envs\\python37\\lib\\site-packages\\sklearn\\preprocessing\\_encoders.py:371: FutureWarning: The handling of integer data will change in version 0.22. Currently, the categories are determined based on the range [0, max(values)], while in the future they will be determined based on the unique values.\n",
      "If you want the future behaviour and silence this warning, you can specify \"categories='auto'\".\n",
      "In case you used a LabelEncoder before this OneHotEncoder to convert the categories to integers, then you can now use the OneHotEncoder directly.\n",
      "  warnings.warn(msg, FutureWarning)\n"
     ]
    }
   ],
   "source": [
    "## OneHot Label 由(None, 1)-(None, 10)\n",
    "## ex. label=2,變成[0,0,1,0,0,0,0,0,0,0]\n",
    "one_hot=OneHotEncoder()\n",
    "y_train=one_hot.fit_transform(y_train).toarray()\n",
    "y_test=one_hot.transform(y_test).toarray()"
   ]
  },
  {
   "cell_type": "code",
   "execution_count": 4,
   "metadata": {},
   "outputs": [
    {
     "name": "stderr",
     "output_type": "stream",
     "text": [
      "WARNING: Logging before flag parsing goes to stderr.\n",
      "W1212 13:26:07.197356  7968 module_wrapper.py:139] From C:\\Users\\SeanKang\\Anaconda3\\envs\\python37\\lib\\site-packages\\keras\\backend\\tensorflow_backend.py:74: The name tf.get_default_graph is deprecated. Please use tf.compat.v1.get_default_graph instead.\n",
      "\n",
      "W1212 13:26:07.199358  7968 module_wrapper.py:139] From C:\\Users\\SeanKang\\Anaconda3\\envs\\python37\\lib\\site-packages\\keras\\backend\\tensorflow_backend.py:517: The name tf.placeholder is deprecated. Please use tf.compat.v1.placeholder instead.\n",
      "\n",
      "W1212 13:26:07.201361  7968 module_wrapper.py:139] From C:\\Users\\SeanKang\\Anaconda3\\envs\\python37\\lib\\site-packages\\keras\\backend\\tensorflow_backend.py:4138: The name tf.random_uniform is deprecated. Please use tf.random.uniform instead.\n",
      "\n",
      "W1212 13:26:07.220378  7968 module_wrapper.py:139] From C:\\Users\\SeanKang\\Anaconda3\\envs\\python37\\lib\\site-packages\\keras\\backend\\tensorflow_backend.py:174: The name tf.get_default_session is deprecated. Please use tf.compat.v1.get_default_session instead.\n",
      "\n",
      "W1212 13:26:07.221379  7968 module_wrapper.py:139] From C:\\Users\\SeanKang\\Anaconda3\\envs\\python37\\lib\\site-packages\\keras\\backend\\tensorflow_backend.py:181: The name tf.ConfigProto is deprecated. Please use tf.compat.v1.ConfigProto instead.\n",
      "\n",
      "W1212 13:26:07.221379  7968 module_wrapper.py:139] From C:\\Users\\SeanKang\\Anaconda3\\envs\\python37\\lib\\site-packages\\keras\\backend\\tensorflow_backend.py:186: The name tf.Session is deprecated. Please use tf.compat.v1.Session instead.\n",
      "\n",
      "W1212 13:26:09.651263  7968 module_wrapper.py:139] From C:\\Users\\SeanKang\\Anaconda3\\envs\\python37\\lib\\site-packages\\keras\\backend\\tensorflow_backend.py:190: The name tf.global_variables is deprecated. Please use tf.compat.v1.global_variables instead.\n",
      "\n",
      "W1212 13:26:09.653266  7968 module_wrapper.py:139] From C:\\Users\\SeanKang\\Anaconda3\\envs\\python37\\lib\\site-packages\\keras\\backend\\tensorflow_backend.py:199: The name tf.is_variable_initialized is deprecated. Please use tf.compat.v1.is_variable_initialized instead.\n",
      "\n",
      "W1212 13:26:09.857451  7968 module_wrapper.py:139] From C:\\Users\\SeanKang\\Anaconda3\\envs\\python37\\lib\\site-packages\\keras\\backend\\tensorflow_backend.py:206: The name tf.variables_initializer is deprecated. Please use tf.compat.v1.variables_initializer instead.\n",
      "\n",
      "W1212 13:26:09.869461  7968 module_wrapper.py:139] From C:\\Users\\SeanKang\\Anaconda3\\envs\\python37\\lib\\site-packages\\keras\\backend\\tensorflow_backend.py:1834: The name tf.nn.fused_batch_norm is deprecated. Please use tf.compat.v1.nn.fused_batch_norm instead.\n",
      "\n",
      "W1212 13:26:09.902491  7968 module_wrapper.py:139] From C:\\Users\\SeanKang\\Anaconda3\\envs\\python37\\lib\\site-packages\\keras\\backend\\tensorflow_backend.py:133: The name tf.placeholder_with_default is deprecated. Please use tf.compat.v1.placeholder_with_default instead.\n",
      "\n",
      "W1212 13:26:09.913501  7968 module_wrapper.py:139] From C:\\Users\\SeanKang\\Anaconda3\\envs\\python37\\lib\\site-packages\\keras\\backend\\tensorflow_backend.py:3976: The name tf.nn.max_pool is deprecated. Please use tf.nn.max_pool2d instead.\n",
      "\n",
      "W1212 13:26:09.982564  7968 module_wrapper.py:139] From C:\\Users\\SeanKang\\Anaconda3\\envs\\python37\\lib\\site-packages\\keras\\optimizers.py:790: The name tf.train.Optimizer is deprecated. Please use tf.compat.v1.train.Optimizer instead.\n",
      "\n",
      "W1212 13:26:09.995576  7968 module_wrapper.py:139] From C:\\Users\\SeanKang\\Anaconda3\\envs\\python37\\lib\\site-packages\\keras\\backend\\tensorflow_backend.py:3295: The name tf.log is deprecated. Please use tf.math.log instead.\n",
      "\n"
     ]
    }
   ],
   "source": [
    "classifier=Sequential()\n",
    "\n",
    "#卷積組合\n",
    "classifier.add(Convolution2D(input_shape=(32, 32, 3), kernel_size=(3,3), filters=32, activation='relu', padding='same'))#32,3,3,input_shape=(32,32,3),activation='relu''\n",
    "classifier.add(BatchNormalization())\n",
    "\n",
    "'''自己決定MaxPooling2D放在哪裡'''\n",
    "classifier.add(MaxPooling2D(pool_size=(2,2)))\n",
    "\n",
    "#卷積組合\n",
    "classifier.add(Convolution2D(kernel_size=(3,3), filters=32, activation='relu', padding='same'))\n",
    "classifier.add(BatchNormalization())\n",
    "\n",
    "#flatten\n",
    "classifier.add(Flatten())\n",
    "\n",
    "#FC\n",
    "classifier.add(Dense(units=100, activation='relu')) #output_dim=100,activation=relu\n",
    "\n",
    "#輸出\n",
    "classifier.add(Dense(units=10,activation='softmax'))\n",
    "\n",
    "#超過兩個就要選categorical_crossentrophy\n",
    "classifier.compile(optimizer = 'adam', loss = 'categorical_crossentropy', metrics = ['accuracy'])\n",
    "classifier.fit(x_train,y_train,batch_size=100,epochs=100)"
   ]
  },
  {
   "cell_type": "code",
   "execution_count": 5,
   "metadata": {},
   "outputs": [
    {
     "name": "stderr",
     "output_type": "stream",
     "text": [
      "W1212 13:38:41.657840  7968 deprecation.py:323] From C:\\Users\\SeanKang\\Anaconda3\\envs\\python37\\lib\\site-packages\\tensorflow_core\\python\\ops\\math_grad.py:1424: where (from tensorflow.python.ops.array_ops) is deprecated and will be removed in a future version.\n",
      "Instructions for updating:\n",
      "Use tf.where in 2.0, which has the same broadcast rule as np.where\n",
      "W1212 13:38:41.733910  7968 module_wrapper.py:139] From C:\\Users\\SeanKang\\Anaconda3\\envs\\python37\\lib\\site-packages\\keras\\backend\\tensorflow_backend.py:986: The name tf.assign_add is deprecated. Please use tf.compat.v1.assign_add instead.\n",
      "\n",
      "W1212 13:38:41.828996  7968 module_wrapper.py:139] From C:\\Users\\SeanKang\\Anaconda3\\envs\\python37\\lib\\site-packages\\keras\\backend\\tensorflow_backend.py:973: The name tf.assign is deprecated. Please use tf.compat.v1.assign instead.\n",
      "\n"
     ]
    },
    {
     "name": "stdout",
     "output_type": "stream",
     "text": [
      "Epoch 1/100\n",
      "50000/50000 [==============================] - 9s 176us/step - loss: 1.2797 - acc: 0.5549\n",
      "Epoch 2/100\n",
      "50000/50000 [==============================] - 6s 122us/step - loss: 0.8364 - acc: 0.7049\n",
      "Epoch 3/100\n",
      "50000/50000 [==============================] - 6s 123us/step - loss: 0.6013 - acc: 0.7883\n",
      "Epoch 4/100\n",
      "50000/50000 [==============================] - 6s 128us/step - loss: 0.4054 - acc: 0.8591\n",
      "Epoch 5/100\n",
      "50000/50000 [==============================] - 6s 126us/step - loss: 0.2670 - acc: 0.9081\n",
      "Epoch 6/100\n",
      "50000/50000 [==============================] - 6s 125us/step - loss: 0.1812 - acc: 0.9388\n",
      "Epoch 7/100\n",
      "50000/50000 [==============================] - 6s 121us/step - loss: 0.1292 - acc: 0.9567\n",
      "Epoch 8/100\n",
      "50000/50000 [==============================] - 6s 120us/step - loss: 0.1083 - acc: 0.9631\n",
      "Epoch 9/100\n",
      "50000/50000 [==============================] - 6s 118us/step - loss: 0.1156 - acc: 0.9601\n",
      "Epoch 10/100\n",
      "50000/50000 [==============================] - 6s 125us/step - loss: 0.0940 - acc: 0.9678\n",
      "Epoch 11/100\n",
      "50000/50000 [==============================] - 6s 119us/step - loss: 0.0820 - acc: 0.9719\n",
      "Epoch 12/100\n",
      "50000/50000 [==============================] - 6s 118us/step - loss: 0.0743 - acc: 0.9754 - ETA: 1\n",
      "Epoch 13/100\n",
      "50000/50000 [==============================] - 6s 118us/step - loss: 0.0674 - acc: 0.9774\n",
      "Epoch 14/100\n",
      "50000/50000 [==============================] - 6s 118us/step - loss: 0.0646 - acc: 0.9772\n",
      "Epoch 15/100\n",
      "50000/50000 [==============================] - 6s 118us/step - loss: 0.0578 - acc: 0.9808\n",
      "Epoch 16/100\n",
      "50000/50000 [==============================] - 6s 119us/step - loss: 0.0522 - acc: 0.9826 0s - loss: 0.0494 \n",
      "Epoch 17/100\n",
      "50000/50000 [==============================] - 6s 119us/step - loss: 0.0598 - acc: 0.9803\n",
      "Epoch 18/100\n",
      "50000/50000 [==============================] - 6s 118us/step - loss: 0.0524 - acc: 0.9818\n",
      "Epoch 19/100\n",
      "50000/50000 [==============================] - 6s 116us/step - loss: 0.0528 - acc: 0.9830\n",
      "Epoch 20/100\n",
      "50000/50000 [==============================] - 6s 117us/step - loss: 0.0482 - acc: 0.9835\n",
      "Epoch 21/100\n",
      "50000/50000 [==============================] - 6s 119us/step - loss: 0.0388 - acc: 0.9866\n",
      "Epoch 22/100\n",
      "50000/50000 [==============================] - 6s 119us/step - loss: 0.0362 - acc: 0.9879 0s - loss: 0.0341 - \n",
      "Epoch 23/100\n",
      "50000/50000 [==============================] - 6s 117us/step - loss: 0.0486 - acc: 0.9837 0s - loss: 0.045\n",
      "Epoch 24/100\n",
      "50000/50000 [==============================] - 6s 119us/step - loss: 0.0539 - acc: 0.9821 0s - loss: 0.05\n",
      "Epoch 25/100\n",
      "50000/50000 [==============================] - 6s 118us/step - loss: 0.0329 - acc: 0.9889\n",
      "Epoch 26/100\n",
      "50000/50000 [==============================] - 6s 114us/step - loss: 0.0284 - acc: 0.9909\n",
      "Epoch 27/100\n",
      "50000/50000 [==============================] - 6s 115us/step - loss: 0.0296 - acc: 0.9903\n",
      "Epoch 28/100\n",
      "50000/50000 [==============================] - 6s 117us/step - loss: 0.0390 - acc: 0.9874\n",
      "Epoch 29/100\n",
      "50000/50000 [==============================] - 6s 117us/step - loss: 0.0405 - acc: 0.9870\n",
      "Epoch 30/100\n",
      "50000/50000 [==============================] - 6s 118us/step - loss: 0.0399 - acc: 0.9867\n",
      "Epoch 31/100\n",
      "50000/50000 [==============================] - 6s 119us/step - loss: 0.0284 - acc: 0.9910 0s - loss: 0.0267\n",
      "Epoch 32/100\n",
      "50000/50000 [==============================] - 6s 118us/step - loss: 0.0288 - acc: 0.9910\n",
      "Epoch 33/100\n",
      "50000/50000 [==============================] - 6s 120us/step - loss: 0.0239 - acc: 0.9922\n",
      "Epoch 34/100\n",
      "50000/50000 [==============================] - 6s 118us/step - loss: 0.0356 - acc: 0.9885\n",
      "Epoch 35/100\n",
      "50000/50000 [==============================] - 6s 116us/step - loss: 0.0270 - acc: 0.9913\n",
      "Epoch 36/100\n",
      "50000/50000 [==============================] - 6s 115us/step - loss: 0.0258 - acc: 0.9917 1s - loss: \n",
      "Epoch 37/100\n",
      "50000/50000 [==============================] - 6s 119us/step - loss: 0.0295 - acc: 0.9905\n",
      "Epoch 38/100\n",
      "50000/50000 [==============================] - 6s 118us/step - loss: 0.0278 - acc: 0.9915\n",
      "Epoch 39/100\n",
      "50000/50000 [==============================] - 6s 119us/step - loss: 0.0256 - acc: 0.9918\n",
      "Epoch 40/100\n",
      "50000/50000 [==============================] - 6s 118us/step - loss: 0.0243 - acc: 0.9922 0s - loss: 0.0237 - ac\n",
      "Epoch 41/100\n",
      "50000/50000 [==============================] - 6s 119us/step - loss: 0.0243 - acc: 0.9924\n",
      "Epoch 42/100\n",
      "50000/50000 [==============================] - 6s 120us/step - loss: 0.0246 - acc: 0.9922\n",
      "Epoch 43/100\n",
      "50000/50000 [==============================] - 6s 121us/step - loss: 0.0254 - acc: 0.9919\n",
      "Epoch 44/100\n",
      "50000/50000 [==============================] - 6s 128us/step - loss: 0.0269 - acc: 0.9915\n",
      "Epoch 45/100\n",
      "50000/50000 [==============================] - 6s 126us/step - loss: 0.0184 - acc: 0.9943\n",
      "Epoch 46/100\n",
      "50000/50000 [==============================] - 6s 124us/step - loss: 0.0215 - acc: 0.9936\n",
      "Epoch 47/100\n",
      "50000/50000 [==============================] - 6s 123us/step - loss: 0.0191 - acc: 0.9937\n",
      "Epoch 48/100\n",
      "50000/50000 [==============================] - 6s 124us/step - loss: 0.0248 - acc: 0.9919\n",
      "Epoch 49/100\n",
      "50000/50000 [==============================] - 7s 135us/step - loss: 0.0236 - acc: 0.9926\n",
      "Epoch 50/100\n",
      "50000/50000 [==============================] - 6s 128us/step - loss: 0.0172 - acc: 0.9945\n",
      "Epoch 51/100\n",
      "50000/50000 [==============================] - 6s 122us/step - loss: 0.0172 - acc: 0.9941\n",
      "Epoch 52/100\n",
      "50000/50000 [==============================] - 6s 123us/step - loss: 0.0190 - acc: 0.9941\n",
      "Epoch 53/100\n",
      "50000/50000 [==============================] - 6s 123us/step - loss: 0.0196 - acc: 0.9935\n",
      "Epoch 54/100\n",
      "50000/50000 [==============================] - 6s 127us/step - loss: 0.0156 - acc: 0.9949\n",
      "Epoch 55/100\n",
      "50000/50000 [==============================] - 7s 133us/step - loss: 0.0213 - acc: 0.9935\n",
      "Epoch 56/100\n",
      "50000/50000 [==============================] - 6s 121us/step - loss: 0.0198 - acc: 0.9937\n",
      "Epoch 57/100\n",
      "50000/50000 [==============================] - 6s 122us/step - loss: 0.0238 - acc: 0.9927\n",
      "Epoch 58/100\n",
      "50000/50000 [==============================] - 6s 119us/step - loss: 0.0156 - acc: 0.9950\n",
      "Epoch 59/100\n",
      "50000/50000 [==============================] - 6s 120us/step - loss: 0.0132 - acc: 0.9955\n",
      "Epoch 60/100\n",
      "50000/50000 [==============================] - 6s 130us/step - loss: 0.0187 - acc: 0.9941\n",
      "Epoch 61/100\n",
      "50000/50000 [==============================] - 6s 127us/step - loss: 0.0171 - acc: 0.9946\n",
      "Epoch 62/100\n",
      "50000/50000 [==============================] - 6s 124us/step - loss: 0.0192 - acc: 0.9941 0s - loss: 0.0189 - acc:\n",
      "Epoch 63/100\n",
      "50000/50000 [==============================] - 6s 125us/step - loss: 0.0140 - acc: 0.9957\n",
      "Epoch 64/100\n",
      "50000/50000 [==============================] - 6s 123us/step - loss: 0.0108 - acc: 0.9962\n",
      "Epoch 65/100\n",
      "50000/50000 [==============================] - 6s 122us/step - loss: 0.0114 - acc: 0.9964\n",
      "Epoch 66/100\n",
      "50000/50000 [==============================] - 6s 122us/step - loss: 0.0190 - acc: 0.9944\n",
      "Epoch 67/100\n",
      "50000/50000 [==============================] - 6s 120us/step - loss: 0.0225 - acc: 0.9932\n",
      "Epoch 68/100\n",
      "50000/50000 [==============================] - 6s 120us/step - loss: 0.0166 - acc: 0.9949 1s\n",
      "Epoch 69/100\n",
      "50000/50000 [==============================] - 6s 120us/step - loss: 0.0174 - acc: 0.9949\n",
      "Epoch 70/100\n",
      "50000/50000 [==============================] - 6s 119us/step - loss: 0.0164 - acc: 0.9948\n",
      "Epoch 71/100\n",
      "50000/50000 [==============================] - 6s 121us/step - loss: 0.0160 - acc: 0.9950\n",
      "Epoch 72/100\n",
      "50000/50000 [==============================] - 6s 120us/step - loss: 0.0168 - acc: 0.9950\n",
      "Epoch 73/100\n",
      "50000/50000 [==============================] - 6s 120us/step - loss: 0.0136 - acc: 0.9956 5s - loss:\n",
      "Epoch 74/100\n",
      "50000/50000 [==============================] - 6s 119us/step - loss: 0.0123 - acc: 0.9962\n",
      "Epoch 75/100\n",
      "50000/50000 [==============================] - 6s 120us/step - loss: 0.0146 - acc: 0.9954 2s - loss: 0.0135 - acc - ETA: 2s - loss: 0.0136 - ETA: 1s - los\n",
      "Epoch 76/100\n",
      "50000/50000 [==============================] - 6s 120us/step - loss: 0.0112 - acc: 0.9964\n",
      "Epoch 77/100\n",
      "50000/50000 [==============================] - 6s 120us/step - loss: 0.0134 - acc: 0.9961\n",
      "Epoch 78/100\n"
     ]
    },
    {
     "name": "stdout",
     "output_type": "stream",
     "text": [
      "50000/50000 [==============================] - 6s 118us/step - loss: 0.0163 - acc: 0.9955\n",
      "Epoch 79/100\n",
      "50000/50000 [==============================] - 6s 116us/step - loss: 0.0115 - acc: 0.9966\n",
      "Epoch 80/100\n",
      "50000/50000 [==============================] - 6s 121us/step - loss: 0.0166 - acc: 0.9950 1s - l\n",
      "Epoch 81/100\n",
      "50000/50000 [==============================] - 6s 127us/step - loss: 0.0144 - acc: 0.9954\n",
      "Epoch 82/100\n",
      "50000/50000 [==============================] - 6s 122us/step - loss: 0.0130 - acc: 0.9960 0s - loss: 0.0130 - acc: 0.9\n",
      "Epoch 83/100\n",
      "50000/50000 [==============================] - 6s 122us/step - loss: 0.0100 - acc: 0.9969\n",
      "Epoch 84/100\n",
      "50000/50000 [==============================] - 6s 121us/step - loss: 0.0140 - acc: 0.9956 1s - loss: \n",
      "Epoch 85/100\n",
      "50000/50000 [==============================] - 6s 118us/step - loss: 0.0113 - acc: 0.9965\n",
      "Epoch 86/100\n",
      "50000/50000 [==============================] - 6s 118us/step - loss: 0.0121 - acc: 0.9962 0s - loss: 0.0118 \n",
      "Epoch 87/100\n",
      "50000/50000 [==============================] - 6s 121us/step - loss: 0.0139 - acc: 0.9958\n",
      "Epoch 88/100\n",
      "50000/50000 [==============================] - 6s 121us/step - loss: 0.0131 - acc: 0.9959 4s - loss: 0.0115 - ac - ETA: 3s - loss: 0.0125 - acc:  - ET - ETA: 1s - lo - ETA: 0s - loss: 0.0131 - acc: 0.995\n",
      "Epoch 89/100\n",
      "50000/50000 [==============================] - 6s 116us/step - loss: 0.0110 - acc: 0.9966\n",
      "Epoch 90/100\n",
      "50000/50000 [==============================] - 6s 117us/step - loss: 0.0115 - acc: 0.9964\n",
      "Epoch 91/100\n",
      "50000/50000 [==============================] - 6s 117us/step - loss: 0.0106 - acc: 0.9964\n",
      "Epoch 92/100\n",
      "50000/50000 [==============================] - 6s 116us/step - loss: 0.0125 - acc: 0.9964\n",
      "Epoch 93/100\n",
      "50000/50000 [==============================] - 6s 117us/step - loss: 0.0147 - acc: 0.9958 1s\n",
      "Epoch 94/100\n",
      "50000/50000 [==============================] - 6s 118us/step - loss: 0.0091 - acc: 0.9972\n",
      "Epoch 95/100\n",
      "50000/50000 [==============================] - 6s 118us/step - loss: 0.0095 - acc: 0.9972\n",
      "Epoch 96/100\n",
      "50000/50000 [==============================] - 6s 117us/step - loss: 0.0078 - acc: 0.9974\n",
      "Epoch 97/100\n",
      "50000/50000 [==============================] - 6s 117us/step - loss: 0.0176 - acc: 0.9950\n",
      "Epoch 98/100\n",
      "50000/50000 [==============================] - 6s 118us/step - loss: 0.0123 - acc: 0.9960\n",
      "Epoch 99/100\n",
      "50000/50000 [==============================] - 6s 123us/step - loss: 0.0149 - acc: 0.9956 0s - loss: 0.0142 - acc: 0.9\n",
      "Epoch 100/100\n",
      "50000/50000 [==============================] - 6s 115us/step - loss: 0.0115 - acc: 0.9964\n"
     ]
    },
    {
     "data": {
      "text/plain": [
       "<keras.callbacks.History at 0x205c73c85f8>"
      ]
     },
     "execution_count": 5,
     "metadata": {},
     "output_type": "execute_result"
    }
   ],
   "source": [
    "classifier.fit(x_train,y_train,batch_size=100,epochs=100)"
   ]
  },
  {
   "cell_type": "markdown",
   "metadata": {},
   "source": [
    "## 預測新圖片，輸入影像前處理要與訓練時相同\n",
    "#### ((X-mean)/(std+1e-7) ):這裡的mean跟std是訓練集的\n",
    "## 維度如下方示範"
   ]
  },
  {
   "cell_type": "code",
   "execution_count": 6,
   "metadata": {},
   "outputs": [
    {
     "data": {
      "text/plain": [
       "array([[3.6397912e-05, 1.9773949e-19, 5.3242466e-04, 4.9275264e-01,\n",
       "        5.0665188e-01, 1.7518660e-10, 3.3721086e-08, 6.2213921e-08,\n",
       "        2.6523057e-05, 6.0435858e-13]], dtype=float32)"
      ]
     },
     "execution_count": 6,
     "metadata": {},
     "output_type": "execute_result"
    }
   ],
   "source": [
    "input_example=(np.zeros(shape=(1,32,32,3))-mean_train)/(std_train+1e-7) \n",
    "classifier.predict(input_example)"
   ]
  },
  {
   "cell_type": "code",
   "execution_count": null,
   "metadata": {},
   "outputs": [],
   "source": []
  }
 ],
 "metadata": {
  "kernelspec": {
   "display_name": "Python 3",
   "language": "python",
   "name": "python3"
  },
  "language_info": {
   "codemirror_mode": {
    "name": "ipython",
    "version": 3
   },
   "file_extension": ".py",
   "mimetype": "text/x-python",
   "name": "python",
   "nbconvert_exporter": "python",
   "pygments_lexer": "ipython3",
   "version": "3.7.2"
  }
 },
 "nbformat": 4,
 "nbformat_minor": 2
}
